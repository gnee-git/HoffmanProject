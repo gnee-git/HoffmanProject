{
 "cells": [
  {
   "cell_type": "code",
   "execution_count": 1,
   "metadata": {},
   "outputs": [
    {
     "name": "stdout",
     "output_type": "stream",
     "text": [
      "           Tag  VR                                Name Unnamed: 3\n",
      "0  (0002,0000)  UL  File Meta Information Group Length        NaN\n",
      "1  (0002,0001)  OB       File Meta Information Version        NaN\n",
      "2  (0002,0002)  UI         Media Storage SOP Class UID        NaN\n",
      "3  (0002,0003)  UI      Media Storage SOP Instance UID        NaN\n",
      "4  (0002,0010)  UI                 Transfer Syntax UID        NaN\n"
     ]
    }
   ],
   "source": [
    "import pandas as pd\n",
    "\n",
    "lib = pd.read_csv(\"D:/Hoffman/DICOM_TagLibrary.txt\", sep=\"\\t\")\n",
    "\n",
    "# GE_lib = pd.read_csv(\"D:/Hoffman/GE_PrivateDicom_Library.txt\", sep=\" \")\n",
    "\n",
    "print(lib.head())"
   ]
  },
  {
   "cell_type": "code",
   "execution_count": 2,
   "metadata": {},
   "outputs": [],
   "source": [
    "with open(\"D:/Hoffman/GE_PrivateDicom_Library.txt\", \"r\") as fi, open(\"D:/Hoffman/GE_PrivateDicom_csv.csv\",\"w\") as fo:\n",
    "    for line in fi:\n",
    "        fo.write(line.replace(\" \", \"\\t\"))\n",
    "    "
   ]
  },
  {
   "cell_type": "code",
   "execution_count": 4,
   "metadata": {},
   "outputs": [
    {
     "name": "stdout",
     "output_type": "stream",
     "text": [
      "                             AttributeName          Tag  Type  VR  VM  \\\n",
      "NaN          GE_Advance_Patient.patient_id  (0009,1002)     3  LO   1   \n",
      "NaN  GE_Advance_Patient.compatible_version  (0009,1003)     3  SH   1   \n",
      "NaN    GE_Advance_Patient.software_version  (0009,1004)     3  SH   1   \n",
      "NaN    GE_Advance_Patient.patient_datetime  (0009,1005)     3  DT   1   \n",
      "NaN                GE_Advance_Patient.type  (0009,1006)     3  SL   1   \n",
      "\n",
      "    AdvanceType  \n",
      "NaN         20A  \n",
      "NaN          5A  \n",
      "NaN          5A  \n",
      "NaN           D  \n",
      "NaN           L  \n"
     ]
    }
   ],
   "source": [
    "GE_lib = pd.read_csv(\"D:/Hoffman/GE_PrivateDicom_csv.csv\", sep=\"\\t\")\n",
    "print(GE_lib.head())"
   ]
  },
  {
   "cell_type": "code",
   "execution_count": 5,
   "metadata": {},
   "outputs": [
    {
     "data": {
      "text/html": [
       "<div>\n",
       "<style scoped>\n",
       "    .dataframe tbody tr th:only-of-type {\n",
       "        vertical-align: middle;\n",
       "    }\n",
       "\n",
       "    .dataframe tbody tr th {\n",
       "        vertical-align: top;\n",
       "    }\n",
       "\n",
       "    .dataframe thead th {\n",
       "        text-align: right;\n",
       "    }\n",
       "</style>\n",
       "<table border=\"1\" class=\"dataframe\">\n",
       "  <thead>\n",
       "    <tr style=\"text-align: right;\">\n",
       "      <th></th>\n",
       "      <th>Tag</th>\n",
       "      <th>VR</th>\n",
       "      <th>Name</th>\n",
       "      <th>Unnamed: 3</th>\n",
       "    </tr>\n",
       "  </thead>\n",
       "  <tbody>\n",
       "    <tr>\n",
       "      <th>0</th>\n",
       "      <td>(0002,0000)</td>\n",
       "      <td>UL</td>\n",
       "      <td>File Meta Information Group Length</td>\n",
       "      <td>NaN</td>\n",
       "    </tr>\n",
       "    <tr>\n",
       "      <th>1</th>\n",
       "      <td>(0002,0001)</td>\n",
       "      <td>OB</td>\n",
       "      <td>File Meta Information Version</td>\n",
       "      <td>NaN</td>\n",
       "    </tr>\n",
       "    <tr>\n",
       "      <th>2</th>\n",
       "      <td>(0002,0002)</td>\n",
       "      <td>UI</td>\n",
       "      <td>Media Storage SOP Class UID</td>\n",
       "      <td>NaN</td>\n",
       "    </tr>\n",
       "    <tr>\n",
       "      <th>3</th>\n",
       "      <td>(0002,0003)</td>\n",
       "      <td>UI</td>\n",
       "      <td>Media Storage SOP Instance UID</td>\n",
       "      <td>NaN</td>\n",
       "    </tr>\n",
       "    <tr>\n",
       "      <th>4</th>\n",
       "      <td>(0002,0010)</td>\n",
       "      <td>UI</td>\n",
       "      <td>Transfer Syntax UID</td>\n",
       "      <td>NaN</td>\n",
       "    </tr>\n",
       "    <tr>\n",
       "      <th>...</th>\n",
       "      <td>...</td>\n",
       "      <td>...</td>\n",
       "      <td>...</td>\n",
       "      <td>...</td>\n",
       "    </tr>\n",
       "    <tr>\n",
       "      <th>4349</th>\n",
       "      <td>(0013,1010)</td>\n",
       "      <td>SL</td>\n",
       "      <td>GE_Advance_Annotation.start_symbol</td>\n",
       "      <td>NaN</td>\n",
       "    </tr>\n",
       "    <tr>\n",
       "      <th>4350</th>\n",
       "      <td>(0013,1011)</td>\n",
       "      <td>SL</td>\n",
       "      <td>GE_Advance_Annotation.end_symbol</td>\n",
       "      <td>NaN</td>\n",
       "    </tr>\n",
       "    <tr>\n",
       "      <th>4351</th>\n",
       "      <td>(0013,1012)</td>\n",
       "      <td>OB</td>\n",
       "      <td>GE_Advance_Annotation.annotation_data</td>\n",
       "      <td>NaN</td>\n",
       "    </tr>\n",
       "    <tr>\n",
       "      <th>4352</th>\n",
       "      <td>(0013,1013)</td>\n",
       "      <td>SL</td>\n",
       "      <td>GE_Advance_Annotation.annotation_size</td>\n",
       "      <td>NaN</td>\n",
       "    </tr>\n",
       "    <tr>\n",
       "      <th>4353</th>\n",
       "      <td>(0013,1014)</td>\n",
       "      <td>LO</td>\n",
       "      <td>GE_Advance_Annotation.label_id</td>\n",
       "      <td>NaN</td>\n",
       "    </tr>\n",
       "  </tbody>\n",
       "</table>\n",
       "<p>4354 rows × 4 columns</p>\n",
       "</div>"
      ],
      "text/plain": [
       "              Tag  VR                                   Name Unnamed: 3\n",
       "0     (0002,0000)  UL     File Meta Information Group Length        NaN\n",
       "1     (0002,0001)  OB          File Meta Information Version        NaN\n",
       "2     (0002,0002)  UI            Media Storage SOP Class UID        NaN\n",
       "3     (0002,0003)  UI         Media Storage SOP Instance UID        NaN\n",
       "4     (0002,0010)  UI                    Transfer Syntax UID        NaN\n",
       "...           ...  ..                                    ...        ...\n",
       "4349  (0013,1010)  SL     GE_Advance_Annotation.start_symbol        NaN\n",
       "4350  (0013,1011)  SL       GE_Advance_Annotation.end_symbol        NaN\n",
       "4351  (0013,1012)  OB  GE_Advance_Annotation.annotation_data        NaN\n",
       "4352  (0013,1013)  SL  GE_Advance_Annotation.annotation_size        NaN\n",
       "4353  (0013,1014)  LO         GE_Advance_Annotation.label_id        NaN\n",
       "\n",
       "[4354 rows x 4 columns]"
      ]
     },
     "execution_count": 5,
     "metadata": {},
     "output_type": "execute_result"
    }
   ],
   "source": [
    "# Create append df from GE_lib with columns \"Tag\", \"VR\" and \"AttributeName\"(as \"Name\")\n",
    "append_df = GE_lib[[\"Tag\", \"VR\", \"AttributeName\"]].copy()\n",
    "append_df.rename(columns={\"AttributeName\":\"Name\"}, inplace=True)\n",
    "lib = pd.concat([lib,append_df], ignore_index=True)\n",
    "# lib = lib.drop(\"Unnamed: 3\", axis=1)\n",
    "lib"
   ]
  },
  {
   "cell_type": "code",
   "execution_count": null,
   "metadata": {},
   "outputs": [],
   "source": [
    "lib.to_csv(\"D:/Hoffman/DICOM_TagLibrary_wGE.txt\", sep=\"\\t\", index=False)"
   ]
  },
  {
   "cell_type": "code",
   "execution_count": null,
   "metadata": {},
   "outputs": [],
   "source": []
  }
 ],
 "metadata": {
  "kernelspec": {
   "display_name": "base",
   "language": "python",
   "name": "python3"
  },
  "language_info": {
   "codemirror_mode": {
    "name": "ipython",
    "version": 3
   },
   "file_extension": ".py",
   "mimetype": "text/x-python",
   "name": "python",
   "nbconvert_exporter": "python",
   "pygments_lexer": "ipython3",
   "version": "3.8.11"
  },
  "orig_nbformat": 4,
  "vscode": {
   "interpreter": {
    "hash": "5ec89b254f7081713d2b98930cf916433160227df2ad431f33b3f47213c5c30a"
   }
  }
 },
 "nbformat": 4,
 "nbformat_minor": 2
}
